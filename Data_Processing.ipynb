{
 "cells": [
  {
   "cell_type": "code",
   "execution_count": 1,
   "metadata": {
    "ExecuteTime": {
     "end_time": "2020-09-20T18:20:07.103797Z",
     "start_time": "2020-09-20T18:20:06.553381Z"
    }
   },
   "outputs": [],
   "source": [
    "import math\n",
    "import numpy as np\n",
    "import scipy.stats\n",
    "import matplotlib.pyplot as plt\n",
    "%matplotlib inline\n",
    "\n",
    "import matplotlib as mpl\n",
    "plt.rcParams[\"font.family\"] = \"Times New Roman\"\n",
    "from matplotlib.ticker import ScalarFormatter\n",
    "from cycler import cycler\n",
    "from matplotlib.lines import Line2D\n",
    "\n",
    "DEFAULT_COLORS = ['#E69F00', '#56B4E9', '#009E73', '#F0E442', '#0072B2', '#D55E00', '#CC79A7', '#000000']\n",
    "# DEFAULT_COLORS = ['#CC79A7', '#000000','#E69F00', '#56B4E9', '#009E73', '#F0E442', '#0072B2', '#D55E00' ]\n",
    "\n",
    "DEFAULT_LINESTYLES = ['-', '--', ':', '-.', '-', '--', ':', '-.']\n",
    "DEFAULT_MARKERS = ['*', '+', 's', 'p', 'd', 'P', '.', '2']\n",
    "\n",
    "default_cycler = (cycler(color=DEFAULT_COLORS) +\n",
    "                  cycler(linestyle=DEFAULT_LINESTYLES) + cycler(marker=DEFAULT_MARKERS))\n",
    "\n",
    "plt.rc('axes', prop_cycle=default_cycler)\n",
    "plt.rc('lines', linewidth=2, markersize=8)\n",
    "plt.rc('text', usetex=False)\n",
    "plt.rc('xtick', labelsize=22)\n",
    "plt.rc('ytick', labelsize=22)\n",
    "plt.rc('axes', labelsize=22) \n",
    "mpl.rcParams['axes.linewidth'] = 0.4\n",
    "mpl.rcParams['xtick.major.size'] = 2\n",
    "mpl.rcParams['xtick.major.width'] = 0.4\n",
    "mpl.rcParams['ytick.major.size'] = 2\n",
    "mpl.rcParams['ytick.major.width'] = 0.4"
   ]
  },
  {
   "cell_type": "code",
   "execution_count": 2,
   "metadata": {
    "ExecuteTime": {
     "end_time": "2020-09-20T18:20:07.123559Z",
     "start_time": "2020-09-20T18:20:07.117956Z"
    }
   },
   "outputs": [],
   "source": [
    "\n",
    "ds = np.load(f'./results/qerror_cartpole_complete.npy')\n",
    "dr = np.load(f'./results/qerror_cartpole_iid.npy')\n",
    "dp = np.load(f'./results/qerror_cartpole_hmc.npy')\n",
    "\n",
    "\n",
    "ds = np.array(ds)\n",
    "dr = np.array(dr)\n",
    "dp = np.array(dp)\n"
   ]
  },
  {
   "cell_type": "code",
   "execution_count": 3,
   "metadata": {
    "ExecuteTime": {
     "end_time": "2020-09-20T18:20:08.288398Z",
     "start_time": "2020-09-20T18:20:08.282826Z"
    }
   },
   "outputs": [
    {
     "name": "stdout",
     "output_type": "stream",
     "text": [
      "(350,)\n"
     ]
    }
   ],
   "source": [
    "print(dp.shape)"
   ]
  },
  {
   "cell_type": "code",
   "execution_count": 4,
   "metadata": {
    "ExecuteTime": {
     "end_time": "2020-09-20T18:20:13.891181Z",
     "start_time": "2020-09-20T18:20:13.608540Z"
    }
   },
   "outputs": [
    {
     "name": "stderr",
     "output_type": "stream",
     "text": [
      "findfont: Font family ['Times New Roman'] not found. Falling back to DejaVu Sans.\n",
      "findfont: Font family ['Times New Roman'] not found. Falling back to DejaVu Sans.\n"
     ]
    },
    {
     "data": {
      "image/png": "[encoded data removed]",
      "text/plain": [
       "<Figure size 339.12x211.95 with 1 Axes>"
      ]
     },
     "metadata": {
      "needs_background": "light"
     },
     "output_type": "display_data"
    }
   ],
   "source": [
    "fig = plt.figure(figsize=(3.14*1.5, 1.5*3.14/1.6))\n",
    "\n",
    "plt.rc('lines', linewidth=3)\n",
    "# plt.plot(ds, label=\"Complete\", marker='') \n",
    "plt.plot(dr, label=\"IID\", marker='')\n",
    "plt.plot(dp, label=\"HMC\", marker='')\n",
    "\n",
    "plt.grid(alpha=0.3)\n",
    "plt.legend('') \n",
    "# plt.xlim(0, 100) \n",
    "plt.xlabel('Time (t)') \n",
    "plt.ylabel('Q-function error')\n",
    "\n",
    "leg = plt.legend(loc=\"lower left\", ncol=1, bbox_to_anchor=(0.3, 0.6), frameon=False, fontsize=14, handlelength=3)\n",
    "\n",
    "plt.savefig(f\"Qerror_cartpole.pdf\", dpi=200, bbox_inches='tight')\n"
   ]
  },
  {
   "cell_type": "code",
   "execution_count": 34,
   "metadata": {
    "ExecuteTime": {
     "end_time": "2020-09-19T23:41:44.623081Z",
     "start_time": "2020-09-19T23:41:44.616258Z"
    }
   },
   "outputs": [
    {
     "data": {
      "text/plain": [
       "array([ 0.00000000e+00,  8.73059000e-02, -7.88328695e-01, -6.89977660e-02,\n",
       "       -1.48499369e-01,  3.99691904e-01,  1.33655149e-01,  2.31163900e-01,\n",
       "        6.07581986e-01,  2.40640596e-01,  8.64124987e-02,  1.38065433e-01,\n",
       "       -7.65451954e-01, -8.55698059e-01,  2.68643711e-01,  5.97078715e-01,\n",
       "        3.23930147e-01, -2.18345224e-01,  4.09713570e-01, -6.68213847e-01,\n",
       "        8.93974549e-01, -5.66803033e-01, -3.73771016e-01, -4.84781772e-01,\n",
       "       -7.24808143e-01, -2.34875304e-01, -2.87364811e-01,  1.28499023e-01,\n",
       "        6.89098773e-01,  5.28388870e-01, -7.53802249e-02, -8.90926091e-01,\n",
       "        8.37966902e-02, -3.37551375e-01,  8.40460167e-01, -4.54034954e-01,\n",
       "       -7.78513574e-02,  7.30121228e-01,  2.25793878e-01,  4.46818656e-01,\n",
       "       -8.95291061e-02,  3.21639573e-02,  7.98459041e-02, -7.29850728e-01,\n",
       "        4.52434009e-01,  4.08191334e-01,  3.57695897e-01,  6.03322950e-01,\n",
       "        1.29818111e+00,  1.17000661e-01, -1.04183315e-01,  4.84027686e-01,\n",
       "        1.25884265e-01,  9.19399830e-02,  3.88578586e-02, -6.85003335e-01,\n",
       "       -5.53866334e-01,  5.85817654e-01,  5.24822671e-02, -3.54676782e-01,\n",
       "       -1.28023548e-01, -7.77211972e-02, -1.19015284e+00, -1.04857893e+00,\n",
       "        1.18457279e+00,  1.39301809e-02, -5.84855617e-01,  4.96368292e-02,\n",
       "       -5.63376382e-01, -7.71604576e-02,  7.32727845e-01, -2.38940748e-01,\n",
       "       -2.16259380e-01, -4.74090541e-01, -5.15010384e-01,  7.78443121e-01,\n",
       "       -1.91687551e-01,  3.15933937e-01, -6.82631555e-01, -4.71568967e-01,\n",
       "       -1.11487941e-02, -5.71563334e-02, -7.92892374e-01,  5.07936336e-01,\n",
       "        3.87106306e-01,  1.46918132e+00,  2.00477032e-01, -4.24531774e-02,\n",
       "        4.23372329e-01, -3.12141768e-01,  9.75028031e-01, -4.08530900e-01,\n",
       "       -4.68922527e-01, -1.20217761e+00,  8.75681287e-02, -4.13301282e-02,\n",
       "        1.39388345e-01, -4.14654968e-01,  6.01307843e-01,  5.70683428e-01,\n",
       "        2.79911285e-01,  2.36441885e-01, -2.63042395e-01, -1.21109379e-01,\n",
       "       -2.83170701e-01,  6.63488105e-01, -2.77931696e-01, -1.00638545e-01,\n",
       "        1.57987007e-01,  2.01267723e-01,  2.85998804e-01, -5.58472958e-01,\n",
       "        4.96856761e-01,  3.38934447e-01, -8.61550210e-01,  9.07955111e-01,\n",
       "       -1.47697721e-01, -1.50036957e-01, -1.61882510e-02,  3.73197356e-01,\n",
       "        5.05403646e-01, -1.46331686e-01, -7.03854474e-02, -1.83001919e-01,\n",
       "        1.42183339e-01,  7.06885114e-02, -8.04898956e-01, -1.75643189e-01,\n",
       "       -5.11083953e-01,  7.08657341e-02, -5.23183738e-01, -1.43647418e-01,\n",
       "        2.58195196e-01,  5.70147043e-01,  3.91747466e-01, -2.18583044e-02,\n",
       "        7.07155359e-01, -9.23854938e-01, -1.08127299e-03,  3.60280391e-02,\n",
       "        9.19129131e-02, -4.40632348e-01, -3.48191630e-01, -5.17809059e-01,\n",
       "        1.43152592e+00, -1.33046338e-01,  7.19919937e-01,  6.26249991e-01,\n",
       "       -3.78239066e-01,  3.78989933e-01,  6.99883110e-01, -1.90219386e-01,\n",
       "       -4.32368842e-01, -2.19290378e-01, -5.12563693e-01, -7.77740407e-01,\n",
       "       -1.32339053e-02,  7.08316149e-02,  4.70553588e-01, -4.38055943e-01,\n",
       "       -7.10005938e-01, -7.25397773e-01, -2.77925803e-01, -5.47439461e-01,\n",
       "       -7.35920003e-01, -5.08300522e-01, -7.11088986e-01,  1.36825905e-01,\n",
       "       -4.08826052e-01,  3.82235649e-01,  6.35681876e-01,  2.55981002e-04,\n",
       "        1.29466356e+00,  3.67775276e-01, -8.04296792e-01, -3.91350118e-01,\n",
       "       -7.07486997e-01, -2.69616797e-01,  1.29814604e+00,  9.38961570e-01,\n",
       "       -5.19079913e-01, -1.86492808e-01, -3.59910275e-01,  5.87198250e-01,\n",
       "        1.96538257e-01, -6.60086813e-01, -2.39835149e-01,  6.86497602e-01,\n",
       "       -3.15442289e-01,  7.34580556e-02,  1.10510655e+00,  4.77427673e-01,\n",
       "       -3.28819173e-01, -1.10554554e-01,  7.85945901e-02, -1.50252962e-01,\n",
       "       -1.50499070e-01,  2.60444538e-01,  2.68578776e-02,  1.51608391e-01,\n",
       "       -2.51457080e-02,  5.87875254e-01,  4.96274580e-01, -5.70510470e-01,\n",
       "        1.05942068e-01,  1.09167316e-01, -8.39424147e-01,  8.30750186e-02,\n",
       "       -8.52040116e-01,  1.11174811e-01, -2.34129587e-01,  2.03186675e-01,\n",
       "       -1.50242767e-01,  1.06530001e-01, -2.03055402e-02, -2.92881382e-02,\n",
       "        8.10356752e-01, -1.67363459e-02, -4.42863934e-01, -9.72544970e-01,\n",
       "       -2.89125236e-02, -1.46450722e-01, -2.78426051e-01,  1.04377971e+00,\n",
       "        1.10654556e-01, -1.41829123e-01,  5.40869844e-01,  5.37560239e-01,\n",
       "       -3.08408299e-02, -5.50615721e-02, -4.45468251e-01,  8.43539976e-01,\n",
       "       -1.48204102e-01, -8.41538176e-01, -2.46937293e-01, -2.89072601e-02,\n",
       "       -3.29760997e-02, -3.07453657e-02, -3.47256427e-02, -1.10351848e-03,\n",
       "       -2.25757478e-02, -2.64876378e-02, -1.80172173e-02, -1.50913093e-01,\n",
       "       -2.32319395e-02,  1.03899056e-01,  1.04676115e-01, -2.27712934e-02,\n",
       "        5.36497683e-01, -2.43863442e-02, -2.69966399e-02, -1.46402444e-01,\n",
       "        1.05718660e-01, -3.29062322e-02, -2.31991055e-02, -3.30951052e-02,\n",
       "       -1.70013953e-02, -1.27708504e+00, -3.10409175e-02, -8.36832915e-01,\n",
       "       -2.27522532e-02,  8.06289902e-01,  1.03345882e-01, -5.75999243e-01,\n",
       "       -1.50093275e-01, -2.47896159e-02, -2.64590356e-02, -2.92708584e-02,\n",
       "       -2.26800031e-02, -1.82430722e-02, -2.59962938e-02,  1.03066248e-01,\n",
       "       -2.79138149e-02, -1.47685789e-01, -2.85440946e-02, -2.42505843e-02,\n",
       "       -3.06926177e-02, -3.02348642e-02, -2.79230545e-02, -2.75722571e-02,\n",
       "       -2.52746227e-02, -2.41977393e-01, -2.96223393e-02, -2.15117231e-02,\n",
       "       -3.09123510e-02, -2.35051697e-02, -2.48081125e-02, -2.23936391e-02,\n",
       "       -2.44947326e-02, -2.17026667e-02, -1.91063087e-02, -2.89657556e-02,\n",
       "       -3.13406439e-02, -2.54552327e-02,  1.03966701e-01, -3.20851549e-02,\n",
       "       -2.82923059e-02, -3.33139242e-02, -2.50422377e-02, -2.83322051e-02,\n",
       "       -2.82726430e-02, -2.47056386e-02, -2.44445113e-02, -3.19689934e-02,\n",
       "       -3.22223770e-02, -2.28172851e-02, -2.88647656e-02, -2.51035507e-02,\n",
       "       -3.00352161e-02, -2.23440818e-02, -2.30869413e-02, -1.81331840e-02,\n",
       "       -3.07374263e-02, -1.60009200e-02, -1.38282851e-02, -2.96027994e-02,\n",
       "       -2.25837725e-02, -3.08633362e-02, -1.21394216e-02,  1.02868344e-01,\n",
       "       -2.65573268e-02, -1.88651032e-02, -2.59892602e-02, -2.25432574e-02,\n",
       "       -2.45887646e-02, -2.48223658e-02, -1.49960976e-01, -2.92240468e-02,\n",
       "       -2.31203680e-02, -1.48142650e-01, -2.43947945e-02, -2.50049105e-02,\n",
       "        1.07414081e-01, -2.40002283e-02, -3.39183281e-02, -2.42478246e-02,\n",
       "       -2.57763208e-02, -2.60046636e-02, -2.57238260e-02, -2.81026535e-02,\n",
       "       -2.55663439e-02, -3.31976552e-02, -1.82892786e-02, -2.81786949e-02,\n",
       "       -2.53933425e-02, -3.10107195e-02, -2.67086951e-02, -2.64569179e-02,\n",
       "       -2.61199791e-02, -1.98509745e-02])"
      ]
     },
     "execution_count": 34,
     "metadata": {},
     "output_type": "execute_result"
    }
   ],
   "source": [
    "dr-dp"
   ]
  },
  {
   "cell_type": "code",
   "execution_count": null,
   "metadata": {},
   "outputs": [],
   "source": []
  }
 ],
 "metadata": {
  "kernelspec": {
   "display_name": "Python 3",
   "language": "python",
   "name": "python3"
  },
  "language_info": {
   "codemirror_mode": {
    "name": "ipython",
    "version": 3
   },
   "file_extension": ".py",
   "mimetype": "text/x-python",
   "name": "python",
   "nbconvert_exporter": "python",
   "pygments_lexer": "ipython3",
   "version": "3.6.10"
  },
  "toc": {
   "base_numbering": 1,
   "nav_menu": {},
   "number_sections": true,
   "sideBar": true,
   "skip_h1_title": false,
   "title_cell": "Table of Contents",
   "title_sidebar": "Contents",
   "toc_cell": false,
   "toc_position": {},
   "toc_section_display": true,
   "toc_window_display": false
  },
  "varInspector": {
   "cols": {
    "lenName": 16,
    "lenType": 16,
    "lenVar": 40
   },
   "kernels_config": {
    "python": {
     "delete_cmd_postfix": "",
     "delete_cmd_prefix": "del ",
     "library": "var_list.py",
     "varRefreshCmd": "print(var_dic_list())"
    },
    "r": {
     "delete_cmd_postfix": ") ",
     "delete_cmd_prefix": "rm(",
     "library": "var_list.r",
     "varRefreshCmd": "cat(var_dic_list()) "
    }
   },
   "types_to_exclude": [
    "module",
    "function",
    "builtin_function_or_method",
    "instance",
    "_Feature"
   ],
   "window_display": false
  }
 },
 "nbformat": 4,
 "nbformat_minor": 2
}
